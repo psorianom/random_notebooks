{
 "cells": [
  {
   "cell_type": "code",
   "execution_count": 3,
   "metadata": {},
   "outputs": [],
   "source": [
    "DATASETS = \"/data/datagouv/datagouv_all/datasets.csv\"\n",
    "DISCUSSIONS = \"/data/datagouv/datagouv_all/discussions.csv\"\n",
    "ORGANIZATIONS = \"/data/datagouv/datagouv_all/organizations.csv\"\n",
    "RESOURCES = \"/data/datagouv/datagouv_all/resources.csv\"\n",
    "REUSES = \"/data/datagouv/datagouv_all/reuses.csv\"\n",
    "USERS = \"/data/datagouv/datagouv_all/users.csv\"\n",
    "TAGS = \"/data/datagouv/datagouv_all/tags-2019-10-13-10-50.csv\"\n",
    "STOPWORDS_FR = [w.strip() for w in open(\"./stopwords_fr.txt\").readlines()]"
   ]
  },
  {
   "cell_type": "code",
   "execution_count": 4,
   "metadata": {},
   "outputs": [],
   "source": [
    "import pandas as pd\n",
    "import numpy as np\n",
    "from pprint import pprint"
   ]
  },
  {
   "cell_type": "code",
   "execution_count": 5,
   "metadata": {},
   "outputs": [
    {
     "name": "stdout",
     "output_type": "stream",
     "text": [
      "/home/pavel/etalab/code/tags\r\n"
     ]
    }
   ],
   "source": [
    "!pwd"
   ]
  },
  {
   "cell_type": "code",
   "execution_count": 6,
   "metadata": {},
   "outputs": [],
   "source": [
    "class ObjectId:\n",
    "    def __init__(self, id):\n",
    "        self.id = id\n"
   ]
  },
  {
   "cell_type": "code",
   "execution_count": 7,
   "metadata": {},
   "outputs": [],
   "source": [
    "dataset_df = pd.read_csv(DATASETS, sep=\";\", low_memory=False)"
   ]
  },
  {
   "cell_type": "code",
   "execution_count": 26,
   "metadata": {},
   "outputs": [],
   "source": [
    "# Create a text corpus. A line per dataset combining the description and the title and the tags\n",
    "dataset_df[\"all_text\"] = dataset_df.description.fillna(\"\") + \" \" +  dataset_df.title.fillna(\"\") + \" \" + dataset_df.tags.fillna(\"[]\").apply(lambda x: \" \".join([f\"__tag{t}\" for t in eval(x)]))\n"
   ]
  },
  {
   "cell_type": "code",
   "execution_count": 11,
   "metadata": {},
   "outputs": [],
   "source": [
    "from sklearn.feature_extraction.text import TfidfVectorizer"
   ]
  },
  {
   "cell_type": "code",
   "execution_count": 32,
   "metadata": {},
   "outputs": [],
   "source": [
    "tdf = TfidfVectorizer(ngram_range=(1,2), max_df=0.2, min_df=3, lowercase=True, stop_words=STOPWORDS_FR)\n",
    "X = tdf.fit_transform(dataset_df[\"all_text\"].values)\n",
    "voc = np.array(tdf.get_feature_names())"
   ]
  },
  {
   "cell_type": "code",
   "execution_count": 33,
   "metadata": {},
   "outputs": [],
   "source": [
    "def get_top_n_matrix(X, top_n=10):\n",
    "    X = X.tolil()\n",
    "    XX = X.copy()\n",
    "    def max_n(row_data, row_indices, n):\n",
    "            i = row_data.argsort()[-n:][::-1]\n",
    "    #         print(i)\n",
    "    #         print(row_data)\n",
    "            top_values = row_data[i]\n",
    "            top_indices = row_indices[i]  # do the sparse indices matter?\n",
    "    #         print(top_indices)\n",
    "            return top_values, top_indices, i\n",
    "\n",
    "    for i in range(X.shape[0])[:]:\n",
    "        top_values,top_indices=max_n(np.array(X.data[i]),np.array(X.rows[i]), top_n)[:2]\n",
    "        XX.data[i]=top_values#.tolist()\n",
    "        XX.rows[i]=top_indices#.tolist()\n",
    "    return XX\n",
    "\n",
    "def get_top_n_tokens(XX, index, voc):\n",
    "    XX = XX.tocsr()\n",
    "    top_ids = XX[index].nonzero()[1]\n",
    "    pprint(list(zip(voc[top_ids], XX[index,top_ids].toarray()[0])))\n",
    "    return voc[top_ids]\n",
    "\n",
    "def get_input_text(dataset_df, index):\n",
    "    pprint(dataset_df[\"all_text\"].iloc[index])\n",
    "def get_features(X, index, voc):\n",
    "    foo = voc[X[index].nonzero()[1]]\n",
    "    for f in X[index].nonzero()[1]:\n",
    "        print(voc[f], \"\\t\", X[index,f])\n",
    "    "
   ]
  },
  {
   "cell_type": "code",
   "execution_count": 34,
   "metadata": {},
   "outputs": [],
   "source": [
    "XX = get_top_n_matrix(X, 10)"
   ]
  },
  {
   "cell_type": "code",
   "execution_count": 35,
   "metadata": {},
   "outputs": [],
   "source": [
    "target_id = 100"
   ]
  },
  {
   "cell_type": "code",
   "execution_count": 36,
   "metadata": {},
   "outputs": [
    {
     "name": "stdout",
     "output_type": "stream",
     "text": [
      "[('évolution deux', 0.23211246911817562),\n",
      " ('médecine ville', 0.23211246911817562),\n",
      " ('évolution', 0.23048918875702593),\n",
      " ('remboursés assurance', 0.2278645172975488),\n",
      " ('molécule', 0.22427292520861608),\n",
      " ('montants remboursés', 0.21596267378185366),\n",
      " ('2017 chimio', 0.21171472196122684),\n",
      " ('années données', 0.21171472196122684),\n",
      " ('2014 2017', 0.20651564911578393),\n",
      " ('remboursés', 0.20501195129097466)]\n"
     ]
    }
   ],
   "source": [
    "get_top_n_tokens(XX, target_id, voc);"
   ]
  },
  {
   "cell_type": "code",
   "execution_count": 37,
   "metadata": {},
   "outputs": [
    {
     "name": "stdout",
     "output_type": "stream",
     "text": [
      "(\"Ce jeu de données présente l'évolution depuis 2014 des montants remboursés \"\n",
      " \"par l'assurance maladie par molécule en médecine de ville et l'évolution sur \"\n",
      " 'les deux dernières années- Données 2014-2017 Chimio 19 ')\n"
     ]
    }
   ],
   "source": [
    "get_input_text(dataset_df, target_id)"
   ]
  },
  {
   "cell_type": "code",
   "execution_count": 38,
   "metadata": {},
   "outputs": [
    {
     "data": {
      "text/plain": [
       "\"Ce jeu de données présente l'évolution depuis 2014 des montants remboursés par l'assurance maladie par molécule en médecine de ville et l'évolution sur les deux dernières années- Données 2014-2017\""
      ]
     },
     "execution_count": 38,
     "metadata": {},
     "output_type": "execute_result"
    }
   ],
   "source": [
    "dataset_df.iloc[target_id].description"
   ]
  },
  {
   "cell_type": "code",
   "execution_count": 39,
   "metadata": {},
   "outputs": [
    {
     "name": "stdout",
     "output_type": "stream",
     "text": [
      "19 \t 0.12670768314004524\n",
      "2014 \t 0.16284014247278464\n",
      "2014 2017 \t 0.20651564911578393\n",
      "2017 \t 0.09154620777996295\n",
      "2017 chimio \t 0.21171472196122684\n",
      "années \t 0.11731125399796895\n",
      "années données \t 0.21171472196122684\n",
      "assurance \t 0.16231421492744486\n",
      "assurance maladie \t 0.17062446635420728\n",
      "chimio \t 0.1998128784455317\n",
      "depuis \t 0.08940186993369925\n",
      "depuis 2014 \t 0.1881452000128774\n",
      "dernières \t 0.1394325430711854\n",
      "dernières années \t 0.16162551760604463\n",
      "deux \t 0.07613433035681948\n",
      "deux dernières \t 0.18677426169052924\n",
      "données 2014 \t 0.18366308310920973\n",
      "données présente \t 0.1264063957998325\n",
      "jeu données \t 0.07184316511488423\n",
      "maladie \t 0.15946663823616855\n",
      "molécule \t 0.22427292520861608\n",
      "montants \t 0.15638124740473458\n",
      "montants remboursés \t 0.21596267378185366\n",
      "médecine \t 0.17271236061833073\n",
      "médecine ville \t 0.23211246911817562\n",
      "présente \t 0.09112539276357223\n",
      "présente évolution \t 0.1881452000128774\n",
      "remboursés \t 0.20501195129097466\n",
      "remboursés assurance \t 0.2278645172975488\n",
      "ville \t 0.08665535112819407\n",
      "évolution \t 0.23048918875702593\n",
      "évolution depuis \t 0.20100797269061751\n",
      "évolution deux \t 0.23211246911817562\n"
     ]
    }
   ],
   "source": [
    "get_features(X, target_id, voc)"
   ]
  }
 ],
 "metadata": {
  "kernelspec": {
   "display_name": "Python 3",
   "language": "python",
   "name": "python3"
  },
  "language_info": {
   "codemirror_mode": {
    "name": "ipython",
    "version": 3
   },
   "file_extension": ".py",
   "mimetype": "text/x-python",
   "name": "python",
   "nbconvert_exporter": "python",
   "pygments_lexer": "ipython3",
   "version": "3.7.4"
  }
 },
 "nbformat": 4,
 "nbformat_minor": 2
}
